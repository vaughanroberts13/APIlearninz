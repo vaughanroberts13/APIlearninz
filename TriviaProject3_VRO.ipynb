{
  "cells": [
    {
      "cell_type": "markdown",
      "metadata": {
        "id": "view-in-github",
        "colab_type": "text"
      },
      "source": [
        "<a href=\"https://colab.research.google.com/github/vaughanroberts13/APIlearninz/blob/main/TriviaProject3_VRO.ipynb\" target=\"_parent\"><img src=\"https://colab.research.google.com/assets/colab-badge.svg\" alt=\"Open In Colab\"/></a>"
      ]
    },
    {
      "cell_type": "code",
      "source": [
        "# create link"
      ],
      "metadata": {
        "id": "qD_tZMwacXCj"
      },
      "execution_count": null,
      "outputs": []
    },
    {
      "cell_type": "code",
      "execution_count": null,
      "metadata": {
        "id": "pvujPnSmcVyz"
      },
      "outputs": [],
      "source": [
        "import pandas as pd"
      ]
    },
    {
      "cell_type": "code",
      "execution_count": null,
      "metadata": {
        "id": "qUnmPvHPcVy1"
      },
      "outputs": [],
      "source": [
        "triviadata1 = pd.read_csv('JEOPARDY_CSV.csv')"
      ]
    },
    {
      "cell_type": "code",
      "execution_count": null,
      "metadata": {
        "id": "X_a-gY3UcVy2",
        "outputId": "239b54a4-fca8-4134-8dfd-c99c50d25754"
      },
      "outputs": [
        {
          "name": "stdout",
          "output_type": "stream",
          "text": [
            "<class 'pandas.core.frame.DataFrame'>\n",
            "RangeIndex: 216930 entries, 0 to 216929\n",
            "Data columns (total 7 columns):\n",
            " #   Column       Non-Null Count   Dtype \n",
            "---  ------       --------------   ----- \n",
            " 0   Show Number  216930 non-null  int64 \n",
            " 1    Air Date    216930 non-null  object\n",
            " 2    Round       216930 non-null  object\n",
            " 3    Category    216930 non-null  object\n",
            " 4    Value       213296 non-null  object\n",
            " 5    Question    216930 non-null  object\n",
            " 6    Answer      216927 non-null  object\n",
            "dtypes: int64(1), object(6)\n",
            "memory usage: 11.6+ MB\n"
          ]
        }
      ],
      "source": [
        "triviadata1.info()\n"
      ]
    },
    {
      "cell_type": "code",
      "execution_count": null,
      "metadata": {
        "id": "V9UqVYPFcVy5",
        "outputId": "ca0fdf45-229f-4c53-fc35-71899b4ec7e0"
      },
      "outputs": [
        {
          "data": {
            "text/html": [
              "<div>\n",
              "<style scoped>\n",
              "    .dataframe tbody tr th:only-of-type {\n",
              "        vertical-align: middle;\n",
              "    }\n",
              "\n",
              "    .dataframe tbody tr th {\n",
              "        vertical-align: top;\n",
              "    }\n",
              "\n",
              "    .dataframe thead th {\n",
              "        text-align: right;\n",
              "    }\n",
              "</style>\n",
              "<table border=\"1\" class=\"dataframe\">\n",
              "  <thead>\n",
              "    <tr style=\"text-align: right;\">\n",
              "      <th></th>\n",
              "      <th>Show Number</th>\n",
              "      <th>Air Date</th>\n",
              "      <th>Round</th>\n",
              "      <th>Category</th>\n",
              "      <th>Value</th>\n",
              "      <th>Question</th>\n",
              "      <th>Answer</th>\n",
              "    </tr>\n",
              "  </thead>\n",
              "  <tbody>\n",
              "    <tr>\n",
              "      <th>0</th>\n",
              "      <td>4680</td>\n",
              "      <td>12/31/2004</td>\n",
              "      <td>Jeopardy!</td>\n",
              "      <td>HISTORY</td>\n",
              "      <td>$200</td>\n",
              "      <td>For the last 8 years of his life, Galileo was ...</td>\n",
              "      <td>Copernicus</td>\n",
              "    </tr>\n",
              "    <tr>\n",
              "      <th>1</th>\n",
              "      <td>4680</td>\n",
              "      <td>12/31/2004</td>\n",
              "      <td>Jeopardy!</td>\n",
              "      <td>ESPN's TOP 10 ALL-TIME ATHLETES</td>\n",
              "      <td>$200</td>\n",
              "      <td>No. 2: 1912 Olympian; football star at Carlisl...</td>\n",
              "      <td>Jim Thorpe</td>\n",
              "    </tr>\n",
              "    <tr>\n",
              "      <th>2</th>\n",
              "      <td>4680</td>\n",
              "      <td>12/31/2004</td>\n",
              "      <td>Jeopardy!</td>\n",
              "      <td>EVERYBODY TALKS ABOUT IT...</td>\n",
              "      <td>$200</td>\n",
              "      <td>The city of Yuma in this state has a record av...</td>\n",
              "      <td>Arizona</td>\n",
              "    </tr>\n",
              "    <tr>\n",
              "      <th>3</th>\n",
              "      <td>4680</td>\n",
              "      <td>12/31/2004</td>\n",
              "      <td>Jeopardy!</td>\n",
              "      <td>THE COMPANY LINE</td>\n",
              "      <td>$200</td>\n",
              "      <td>In 1963, live on \"The Art Linkletter Show\", th...</td>\n",
              "      <td>McDonald's</td>\n",
              "    </tr>\n",
              "    <tr>\n",
              "      <th>4</th>\n",
              "      <td>4680</td>\n",
              "      <td>12/31/2004</td>\n",
              "      <td>Jeopardy!</td>\n",
              "      <td>EPITAPHS &amp; TRIBUTES</td>\n",
              "      <td>$200</td>\n",
              "      <td>Signer of the Dec. of Indep., framer of the Co...</td>\n",
              "      <td>John Adams</td>\n",
              "    </tr>\n",
              "  </tbody>\n",
              "</table>\n",
              "</div>"
            ],
            "text/plain": [
              "   Show Number    Air Date      Round                         Category  Value  \\\n",
              "0         4680  12/31/2004  Jeopardy!                          HISTORY  $200    \n",
              "1         4680  12/31/2004  Jeopardy!  ESPN's TOP 10 ALL-TIME ATHLETES  $200    \n",
              "2         4680  12/31/2004  Jeopardy!      EVERYBODY TALKS ABOUT IT...  $200    \n",
              "3         4680  12/31/2004  Jeopardy!                 THE COMPANY LINE  $200    \n",
              "4         4680  12/31/2004  Jeopardy!              EPITAPHS & TRIBUTES  $200    \n",
              "\n",
              "                                            Question      Answer  \n",
              "0  For the last 8 years of his life, Galileo was ...  Copernicus  \n",
              "1  No. 2: 1912 Olympian; football star at Carlisl...  Jim Thorpe  \n",
              "2  The city of Yuma in this state has a record av...     Arizona  \n",
              "3  In 1963, live on \"The Art Linkletter Show\", th...  McDonald's  \n",
              "4  Signer of the Dec. of Indep., framer of the Co...  John Adams  "
            ]
          },
          "execution_count": 21,
          "metadata": {},
          "output_type": "execute_result"
        }
      ],
      "source": [
        "triviadata1.head()"
      ]
    },
    {
      "cell_type": "code",
      "execution_count": null,
      "metadata": {
        "id": "q953euukcVy6",
        "outputId": "dc5009c8-d352-4900-96ad-cbe73323b00d"
      },
      "outputs": [
        {
          "data": {
            "text/plain": [
              " Air Date\n",
              "5/19/1997     62\n",
              "11/13/2007    62\n",
              "11/1/2011     61\n",
              "2/5/1993      61\n",
              "2/15/2000     61\n",
              "              ..\n",
              "6/26/2000     30\n",
              "1/27/2012     30\n",
              "9/3/1996      30\n",
              "10/21/1997    16\n",
              "10/18/1989    12\n",
              "Name: count, Length: 3640, dtype: int64"
            ]
          },
          "execution_count": 22,
          "metadata": {},
          "output_type": "execute_result"
        }
      ],
      "source": [
        "triviadata1[' Air Date'].value_counts()"
      ]
    },
    {
      "cell_type": "code",
      "execution_count": null,
      "metadata": {
        "id": "Owq2dSGOcVy8"
      },
      "outputs": [],
      "source": [
        "triviadata1 =  triviadata1.rename(columns={\" Air Date\": \"Air_Date\",\n",
        "                            \" Round\": \"Round\",\n",
        "                            \" Category\": \"Category\",\n",
        "                            \" Value\": \"Value\",\n",
        "                            \" Question\": \"Question\",\n",
        "                            \" Answer\": \"Answer\"})"
      ]
    },
    {
      "cell_type": "code",
      "execution_count": null,
      "metadata": {
        "id": "59Cu6tFtcVy_",
        "outputId": "ed809355-7190-458e-ef3d-4f25e86fb283"
      },
      "outputs": [
        {
          "name": "stdout",
          "output_type": "stream",
          "text": [
            "<class 'pandas.core.frame.DataFrame'>\n",
            "RangeIndex: 216930 entries, 0 to 216929\n",
            "Data columns (total 7 columns):\n",
            " #   Column       Non-Null Count   Dtype         \n",
            "---  ------       --------------   -----         \n",
            " 0   Show Number  216930 non-null  int64         \n",
            " 1   Air_Date     216930 non-null  datetime64[ns]\n",
            " 2   Round        216930 non-null  object        \n",
            " 3   Category     216930 non-null  object        \n",
            " 4   Value        213296 non-null  object        \n",
            " 5   Question     216930 non-null  object        \n",
            " 6   Answer       216927 non-null  object        \n",
            "dtypes: datetime64[ns](1), int64(1), object(5)\n",
            "memory usage: 11.6+ MB\n"
          ]
        }
      ],
      "source": [
        "triviadata1[\"Air_Date\"] = pd.to_datetime(triviadata1.Air_Date)\n",
        "triviadata1.info()"
      ]
    },
    {
      "cell_type": "code",
      "execution_count": null,
      "metadata": {
        "id": "IrZaO6hqcVzC",
        "outputId": "3daf6b43-66e5-4b97-861a-e0a55ea09d08"
      },
      "outputs": [
        {
          "data": {
            "text/plain": [
              "Category\n",
              "BEFORE & AFTER                   547\n",
              "SCIENCE                          519\n",
              "LITERATURE                       496\n",
              "AMERICAN HISTORY                 418\n",
              "POTPOURRI                        401\n",
              "                                ... \n",
              "POTPOURRI...NO FOOLIN'             1\n",
              "BRITISH PAINTERS                   1\n",
              "MIDWAY ISLAND                      1\n",
              "THE OXFORD ENGLISH DICTIONARY      1\n",
              "EXPLORING                          1\n",
              "Name: count, Length: 27983, dtype: int64"
            ]
          },
          "execution_count": 32,
          "metadata": {},
          "output_type": "execute_result"
        }
      ],
      "source": [
        "triviadata1[\"Category\"].value_counts()"
      ]
    }
  ],
  "metadata": {
    "kernelspec": {
      "display_name": "dev",
      "language": "python",
      "name": "python3"
    },
    "language_info": {
      "codemirror_mode": {
        "name": "ipython",
        "version": 3
      },
      "file_extension": ".py",
      "mimetype": "text/x-python",
      "name": "python",
      "nbconvert_exporter": "python",
      "pygments_lexer": "ipython3",
      "version": "3.10.14"
    },
    "colab": {
      "provenance": [],
      "include_colab_link": true
    }
  },
  "nbformat": 4,
  "nbformat_minor": 0
}